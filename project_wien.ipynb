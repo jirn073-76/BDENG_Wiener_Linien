{
 "cells": [
  {
   "cell_type": "markdown",
   "id": "unsigned-invalid",
   "metadata": {},
   "source": [
    "# Schmerzgrenze der Wiener 🚉\n",
    "\n",
    "<img src=\"https://www.biorama.eu/wp-content/uploads/2016/02/Bildschirmfoto-2016-02-26-um-17.14.57.png\"></img>\n",
    "\n",
    "### Project Aim\n",
    "This Project aims to correlate, visualize and find patterns regarding the developments in the Viennese public transport grid and gauging public sentiment in correlation to such incidents. \n"
   ]
  },
  {
   "cell_type": "markdown",
   "id": "adverse-michigan",
   "metadata": {},
   "source": [
    "\n",
    "### Team Members\n",
    "Julian Deleja-Hotko\\\n",
    "Nicolas Markl\\\n",
    "Dionis Ramadani"
   ]
  },
  {
   "cell_type": "markdown",
   "id": "naval-stream",
   "metadata": {},
   "source": [
    "### Data Sources\n",
    "**// TODO: DIE VERSCHIEDENEN DATEN GENAUER BESCHREIBEN**\n",
    "\n",
    "##### [Digitales Wien / Open Government Data Portal Wien](https://digitales.wien.gv.at/open-data/) - REST Endpoint\n",
    "Several hundred data sets provide detailed information about one-way streets, real-time information from Wiener Linien, historical aerial photographs, measurement data of air pollutants or WLAN locations, to name just a few areas.\n",
    "\n",
    "##### [Öffi.at](öffi.at)  - XML / Web Scraping\n",
    "A website gathering and organizing historical data about Wiener Linien outages, courtesy of Klaus Kirnbauer.\\\n",
    "Data available starting from July 2020.\n",
    "\n",
    "##### [Twitter@WienerLinien](https://twitter.com/wienerlinien) - Web Scraping\n",
    "A social media platform popular in Vienna with dedicated accounts from public service providers, useful for gauging sentiment about specific routes in Vienna\n",
    "\n",
    "##### [data.gv.at](data.gv.at) - Flat Files\n",
    "Gathering general info about the public transport network, usage, etc.\n",
    "\n"
   ]
  },
  {
   "cell_type": "markdown",
   "id": "greater-pension",
   "metadata": {},
   "source": [
    "### Architecture Diagram\n",
    "**//TODO: Hier Architekturdiagramm (verpflichtend)**"
   ]
  },
  {
   "cell_type": "markdown",
   "id": "silver-cooking",
   "metadata": {},
   "source": [
    "### Packages\n",
    "Here we'll install and import all relevant Python packages for this project"
   ]
  },
  {
   "cell_type": "code",
   "execution_count": 3,
   "id": "dietary-coalition",
   "metadata": {
    "collapsed": true
   },
   "outputs": [
    {
     "name": "stdout",
     "output_type": "stream",
     "text": [
      "Collecting geopandas\n",
      "  Using cached geopandas-0.11.0-py3-none-any.whl (1.0 MB)\n",
      "Requirement already satisfied: shapely<2,>=1.7 in c:\\users\\notyo\\anaconda3\\lib\\site-packages (from geopandas) (1.8.2)\n",
      "Requirement already satisfied: pyproj>=2.6.1.post1 in c:\\users\\notyo\\anaconda3\\lib\\site-packages (from geopandas) (3.3.1)\n",
      "Requirement already satisfied: packaging in c:\\users\\notyo\\anaconda3\\lib\\site-packages (from geopandas) (21.0)\n",
      "Requirement already satisfied: pandas>=1.0.0 in c:\\users\\notyo\\anaconda3\\lib\\site-packages (from geopandas) (1.4.3)\n",
      "Requirement already satisfied: fiona>=1.8 in c:\\users\\notyo\\anaconda3\\lib\\site-packages (from geopandas) (1.8.21)\n",
      "Requirement already satisfied: attrs>=17 in c:\\users\\notyo\\anaconda3\\lib\\site-packages (from fiona>=1.8->geopandas) (21.2.0)\n",
      "Requirement already satisfied: click>=4.0 in c:\\users\\notyo\\anaconda3\\lib\\site-packages (from fiona>=1.8->geopandas) (8.0.3)\n",
      "Requirement already satisfied: munch in c:\\users\\notyo\\anaconda3\\lib\\site-packages (from fiona>=1.8->geopandas) (2.5.0)\n",
      "Requirement already satisfied: gdal~=3.4.1 in c:\\users\\notyo\\anaconda3\\lib\\site-packages (from fiona>=1.8->geopandas) (3.4.3)\n",
      "Requirement already satisfied: six>=1.7 in c:\\users\\notyo\\anaconda3\\lib\\site-packages (from fiona>=1.8->geopandas) (1.16.0)\n",
      "Requirement already satisfied: certifi in c:\\users\\notyo\\anaconda3\\lib\\site-packages (from fiona>=1.8->geopandas) (2021.10.8)\n",
      "Requirement already satisfied: click-plugins>=1.0 in c:\\users\\notyo\\anaconda3\\lib\\site-packages (from fiona>=1.8->geopandas) (1.1.1)\n",
      "Requirement already satisfied: setuptools in c:\\users\\notyo\\anaconda3\\lib\\site-packages (from fiona>=1.8->geopandas) (58.0.4)\n",
      "Requirement already satisfied: cligj>=0.5 in c:\\users\\notyo\\anaconda3\\lib\\site-packages (from fiona>=1.8->geopandas) (0.7.2)\n",
      "Requirement already satisfied: colorama in c:\\users\\notyo\\anaconda3\\lib\\site-packages (from click>=4.0->fiona>=1.8->geopandas) (0.4.4)\n",
      "Requirement already satisfied: pytz>=2020.1 in c:\\users\\notyo\\anaconda3\\lib\\site-packages (from pandas>=1.0.0->geopandas) (2021.3)\n",
      "Requirement already satisfied: numpy>=1.18.5 in c:\\users\\notyo\\anaconda3\\lib\\site-packages (from pandas>=1.0.0->geopandas) (1.22.4+vanilla)\n",
      "Requirement already satisfied: python-dateutil>=2.8.1 in c:\\users\\notyo\\anaconda3\\lib\\site-packages (from pandas>=1.0.0->geopandas) (2.8.2)\n",
      "Requirement already satisfied: pyparsing>=2.0.2 in c:\\users\\notyo\\anaconda3\\lib\\site-packages (from packaging->geopandas) (3.0.4)\n",
      "Installing collected packages: geopandas\n",
      "Successfully installed geopandas-0.11.0\n"
     ]
    }
   ],
   "source": [
    "!pip install pymongo\n",
    "!pip install pyspark\n",
    "!pip install requests\n",
    "!pip install beautifulsoup4\n",
    "!pip install pyspark \n",
    "!pip install pandas\n",
    "!pip install geopandas"
   ]
  },
  {
   "cell_type": "code",
   "execution_count": 61,
   "id": "weekly-conditions",
   "metadata": {},
   "outputs": [],
   "source": [
    "import requests\n",
    "import re\n",
    "from pymongo import MongoClient\n",
    "from pyspark import SparkContext\n",
    "from bs4 import BeautifulSoup\n",
    "import pandas as pd\n",
    "from pyspark.sql import SparkSession\n",
    "from pyspark import SparkConf\n",
    "from pyspark.sql.functions import *\n",
    "from pyspark.sql.types import *\n",
    "import matplotlib.pyplot as plt"
   ]
  },
  {
   "cell_type": "markdown",
   "id": "brown-demographic",
   "metadata": {},
   "source": [
    "### Gathering, Storing and Cleaning our Data\n",
    "The data will be collected and processed via Kafka, analyzed with Spark and all the relevant data will be stored on our MongoDB instance after an ETL-style pipeline.\n"
   ]
  },
  {
   "cell_type": "markdown",
   "id": "greek-bradley",
   "metadata": {},
   "source": [
    "##### Setting up DB connection\n",
    "We're connecting to our local MongoDB instance, this is to pipe our extracted and transformed data into the DB later."
   ]
  },
  {
   "cell_type": "code",
   "execution_count": 2,
   "id": "possible-lobby",
   "metadata": {},
   "outputs": [
    {
     "name": "stdout",
     "output_type": "stream",
     "text": [
      "{'name': 'admin', 'sizeOnDisk': 40960, 'empty': False}\n",
      "{'name': 'config', 'sizeOnDisk': 98304, 'empty': False}\n",
      "{'name': 'hackernews', 'sizeOnDisk': 81920, 'empty': False}\n",
      "{'name': 'immodb', 'sizeOnDisk': 10588160, 'empty': False}\n",
      "{'name': 'local', 'sizeOnDisk': 409600, 'empty': False}\n",
      "{'name': 'wienerLinien', 'sizeOnDisk': 5537792, 'empty': False}\n"
     ]
    }
   ],
   "source": [
    "# Provide the mongodb connection string\n",
    "CONNECTION_STRING = 'mongodb://localhost:27017'\n",
    "\n",
    "# Create a connection using MongoClient\n",
    "myclient = MongoClient(CONNECTION_STRING)\n",
    "\n",
    "# Check DB collections\n",
    "for db in myclient.list_databases():\n",
    "    print(db)"
   ]
  },
  {
   "cell_type": "markdown",
   "id": "67d2d715",
   "metadata": {},
   "source": [
    "##### Scraping together historical Wiener Linien Data\n",
    "For this step, we're using the Öffi.at website by Klaus Kirnbauer who has aggregated all historical Wiener Linien public transport incidents in an easily queriable fashion.\n",
    "\n",
    "Since Öffi.at uses conveniently utilizes server-side rendering, we can use BeautifulSoup for our data transformation. "
   ]
  },
  {
   "cell_type": "markdown",
   "id": "20dc7515",
   "metadata": {},
   "source": [
    "Now first, we need to model a framework of parsing the relevant data from the 1520 available historical sites;\\\n",
    "Since the data is variable in some cases we have decided on the following format:\n",
    "\n",
    "| [Affected Lines] | [Affected Stations] | Start Time | End Time | Time Problem Fixed | Title |\n",
    "|------------------|---------------------|------------|----------|--------------------|-------|\n"
   ]
  },
  {
   "cell_type": "code",
   "execution_count": 3,
   "id": "9da174ba",
   "metadata": {},
   "outputs": [],
   "source": [
    "# Format\n",
    "# ([Affected Lines], [Affected Stations], Start Time, End Time, Time Problem Fixed, Title)\n",
    "def parse_oeffi_soup(soup):\n",
    "    data = list(map(lambda li: (list(map(lambda trafficline: trafficline.getText(), li.select('.trafficline'))), \n",
    "                                 list(map(lambda liSub: liSub.split('<li>')[1],\n",
    "                                     list(filter(re.compile('[^+]*\\n<b>Von</b>:.').match, str(li).split('<br/>')))[0].split('</li>')[0:-1])),\n",
    "                                 list(filter(re.compile('[^+]*\\n<b>Von</b>:.').match, str(li).split('<br/>')))[0].split('<b>Von</b>: ')[1],\n",
    "                                 list(filter(re.compile('\\n<b>Bis</b>:').match, str(li).split('<br/>'))),\n",
    "                                 list(filter(re.compile('\\n<b>Verkehrsaufnahme</b>:').match, str(li).split('<br/>'))),\n",
    "                                 li.select('.disruption-title')[0].getText()),\n",
    "                     soup.select('li.disruption')))\n",
    "\n",
    "    return list(map(lambda x: (x[0], x[1], x[2], x[3][0].split('</b>: ')[1] if len(x[3]) > 0 else None, x[4][0].split('</b>: ')[1] if len(x[4]) > 0 else None, x[5]), data))"
   ]
  },
  {
   "cell_type": "markdown",
   "id": "d78a8e1f",
   "metadata": {},
   "source": [
    "And now we can run this model on all the available sites and aggregate this data! \\\n",
    "For estimation, this takes around 15-20 minutes to run to completion with all 1520 requests."
   ]
  },
  {
   "cell_type": "code",
   "execution_count": 15,
   "id": "25ffa2c5",
   "metadata": {
    "collapsed": true
   },
   "outputs": [
    {
     "ename": "TypeError",
     "evalue": "'Collection' object is not callable. If you meant to call the 'head' method on a 'Collection' object it is failing because no such method exists.",
     "output_type": "error",
     "traceback": [
      "\u001b[1;31m---------------------------------------------------------------------------\u001b[0m",
      "\u001b[1;31mTypeError\u001b[0m                                 Traceback (most recent call last)",
      "\u001b[1;32m~\\AppData\\Local\\Temp/ipykernel_17952/2290814794.py\u001b[0m in \u001b[0;36m<module>\u001b[1;34m\u001b[0m\n\u001b[0;32m      2\u001b[0m \u001b[0mstoerungen_col\u001b[0m \u001b[1;33m=\u001b[0m \u001b[0mdb\u001b[0m\u001b[1;33m[\u001b[0m\u001b[1;34m'stoerungen'\u001b[0m\u001b[1;33m]\u001b[0m\u001b[1;33m\u001b[0m\u001b[1;33m\u001b[0m\u001b[0m\n\u001b[0;32m      3\u001b[0m \u001b[0mdata\u001b[0m \u001b[1;33m=\u001b[0m \u001b[0mstoerungen_col\u001b[0m\u001b[1;33m\u001b[0m\u001b[1;33m\u001b[0m\u001b[0m\n\u001b[1;32m----> 4\u001b[1;33m \u001b[0mdata\u001b[0m\u001b[1;33m.\u001b[0m\u001b[0mhead\u001b[0m\u001b[1;33m(\u001b[0m\u001b[1;33m)\u001b[0m\u001b[1;33m\u001b[0m\u001b[1;33m\u001b[0m\u001b[0m\n\u001b[0m",
      "\u001b[1;32m~\\anaconda3\\lib\\site-packages\\pymongo\\collection.py\u001b[0m in \u001b[0;36m__call__\u001b[1;34m(self, *args, **kwargs)\u001b[0m\n\u001b[0;32m   3164\u001b[0m                 \u001b[1;34m\"exists.\"\u001b[0m \u001b[1;33m%\u001b[0m \u001b[0mself\u001b[0m\u001b[1;33m.\u001b[0m\u001b[0m__name\u001b[0m\u001b[1;33m\u001b[0m\u001b[1;33m\u001b[0m\u001b[0m\n\u001b[0;32m   3165\u001b[0m             )\n\u001b[1;32m-> 3166\u001b[1;33m         raise TypeError(\n\u001b[0m\u001b[0;32m   3167\u001b[0m             \u001b[1;34m\"'Collection' object is not callable. If you meant to \"\u001b[0m\u001b[1;33m\u001b[0m\u001b[1;33m\u001b[0m\u001b[0m\n\u001b[0;32m   3168\u001b[0m             \u001b[1;34m\"call the '%s' method on a 'Collection' object it is \"\u001b[0m\u001b[1;33m\u001b[0m\u001b[1;33m\u001b[0m\u001b[0m\n",
      "\u001b[1;31mTypeError\u001b[0m: 'Collection' object is not callable. If you meant to call the 'head' method on a 'Collection' object it is failing because no such method exists."
     ]
    }
   ],
   "source": [
    "data = []\n",
    "\n",
    "for i in range(1, 1520):\n",
    "    URL = 'https://xn--ffi-rna.at/?archive=1&page=' + str(i)\n",
    "    page = requests.get(URL)\n",
    "    soup = BeautifulSoup(page.content, 'html.parser')\n",
    "    data.extend(parse_oeffi_soup(soup))\n",
    "    \n",
    "data.head()"
   ]
  },
  {
   "cell_type": "markdown",
   "id": "5de6c23d",
   "metadata": {},
   "source": [
    "Now we shall create a database for inserting our scraped data:"
   ]
  },
  {
   "cell_type": "code",
   "execution_count": 4,
   "id": "c867a415",
   "metadata": {},
   "outputs": [],
   "source": [
    "# Create Database\n",
    "db = myclient['wienerLinien']"
   ]
  },
  {
   "cell_type": "markdown",
   "id": "9d832c9b",
   "metadata": {},
   "source": [
    "After arduously gathering and cleaning our data, we'll now convert it to a Dataframe and insert it into our Mongo DB instance:"
   ]
  },
  {
   "cell_type": "code",
   "execution_count": 181,
   "id": "3370ec52",
   "metadata": {},
   "outputs": [
    {
     "data": {
      "text/plain": [
       "<pymongo.results.InsertManyResult at 0x15c7d3d1f70>"
      ]
     },
     "execution_count": 181,
     "metadata": {},
     "output_type": "execute_result"
    }
   ],
   "source": [
    "# Transform into Pandas DF\n",
    "df = pd.DataFrame(data, columns=['Affected Lines', 'Affected Stations', 'Start Time', 'End Time', 'Fixed Time', 'Title'])\n",
    "\n",
    "# Insert\n",
    "db.stoerungen.insert_many(df.to_dict('records'))"
   ]
  },
  {
   "cell_type": "markdown",
   "id": "322f9342",
   "metadata": {},
   "source": [
    "Now we can also check if we have inserted our data correctly:"
   ]
  },
  {
   "cell_type": "code",
   "execution_count": 5,
   "id": "63a75630",
   "metadata": {},
   "outputs": [
    {
     "name": "stdout",
     "output_type": "stream",
     "text": [
      "Stoerungen:  27088\n"
     ]
    }
   ],
   "source": [
    "stoerungen_col = db['stoerungen']\n",
    "print('Stoerungen: ', len(list(stoerungen_col.find())))"
   ]
  },
  {
   "cell_type": "markdown",
   "id": "5398c469",
   "metadata": {},
   "source": [
    "##### Gathering Geodata about Stations\n",
    "For this step we read in a data.gv.at flat file for further usage in visualizing and interpreting the data:\n",
    "\n",
    "// TODO: Read in Shapefile, prepare for drawing of map"
   ]
  },
  {
   "cell_type": "code",
   "execution_count": null,
   "id": "dae81b82",
   "metadata": {},
   "outputs": [],
   "source": []
  },
  {
   "cell_type": "markdown",
   "id": "04b64f42",
   "metadata": {},
   "source": [
    "##### Gathering Twitter data "
   ]
  },
  {
   "cell_type": "markdown",
   "id": "6113bd91",
   "metadata": {},
   "source": [
    "For XYZ reasons we're using the Twitter API to gather XYZ as follows:\n",
    "\n",
    "// TODO: Write Twitter API code"
   ]
  },
  {
   "cell_type": "code",
   "execution_count": null,
   "id": "9905f98b",
   "metadata": {},
   "outputs": [],
   "source": []
  },
  {
   "cell_type": "markdown",
   "id": "reported-victoria",
   "metadata": {},
   "source": [
    "##### Setting up Spark via SparkContext for MongoDB"
   ]
  },
  {
   "cell_type": "code",
   "execution_count": 9,
   "id": "extraordinary-school",
   "metadata": {},
   "outputs": [],
   "source": [
    "spark = SparkSession \\\n",
    "    .builder \\\n",
    "    .appName(\"WienerLinienAnalyse\") \\\n",
    "    .getOrCreate()"
   ]
  },
  {
   "cell_type": "markdown",
   "id": "british-weather",
   "metadata": {},
   "source": [
    "\n",
    "### Analysis\n",
    "\n",
    "Graphs, maps and heatmaps showing / highlighting patterns and outages of the Viennese public transport system.\n",
    "\n",
    "#### Line Outage Analysis\n",
    "Firstly, we shall investigate which lines have been most affected by outages since June 2020.\n",
    "\n",
    "For this, we will read in our data from the DB into a Spark Dataframe:"
   ]
  },
  {
   "cell_type": "code",
   "execution_count": 85,
   "id": "36b0493c",
   "metadata": {
    "collapsed": true
   },
   "outputs": [
    {
     "name": "stdout",
     "output_type": "stream",
     "text": [
      "root\n",
      " |-- Affected Lines: array (nullable = true)\n",
      " |    |-- element: string (containsNull = true)\n",
      " |-- Affected Stations: array (nullable = true)\n",
      " |    |-- element: string (containsNull = true)\n",
      " |-- Start Time: string (nullable = true)\n",
      " |-- End Time: string (nullable = true)\n",
      " |-- Time Problem Fixed: double (nullable = true)\n",
      " |-- Title: string (nullable = true)\n",
      "\n",
      "+--------------+--------------------+----------------+----------------+------------------+--------------------+\n",
      "|Affected Lines|   Affected Stations|      Start Time|        End Time|Time Problem Fixed|               Title|\n",
      "+--------------+--------------------+----------------+----------------+------------------+--------------------+\n",
      "|          [42]|[Antonigasse, Edu...|11.06.2022 08:50|11.06.2022 09:40|               NaN|        Falschparker|\n",
      "|          [7A]|[ Schedifkaplatz,...|11.06.2022 08:58|11.06.2022 23:59|               NaN|      : Verspätungen|\n",
      "|         [66A]|[Alterlaa, Atzger...|11.06.2022 09:02|11.06.2022 23:59|               NaN|      : Falschparker|\n",
      "|          [U3]|[Enkplatz, Erdber...|11.06.2022 09:44|11.06.2022 23:59|               NaN|      Verunreinigung|\n",
      "|         [40A]|[Bauernfeldplatz,...|11.06.2022 09:48|11.06.2022 23:59|               NaN|    : Verkehrsunfall|\n",
      "|           [6]|[Absberggasse, Ar...|11.06.2022 10:35|11.06.2022 23:59|               NaN|     Rettungseinsatz|\n",
      "|           [1]|[Burgring, Börse,...|11.06.2022 08:32|11.06.2022 23:30|               NaN|Regenbogenparade\\...|\n",
      "|           [1]|[Burgring, Börse,...|11.06.2022 08:32|11.06.2022 23:30|               NaN|Regenbogenparade\\...|\n",
      "|           [1]|[Hintere Zollamts...|11.06.2022 08:32|11.06.2022 23:30|               NaN|Regenbogenparade\\...|\n",
      "|           [1]|      [Kliebergasse]|11.06.2022 08:32|11.06.2022 23:30|               NaN|Regenbogenparade\\...|\n",
      "|           [D]|[Burgring, Oper/K...|11.06.2022 08:32|11.06.2022 23:30|               NaN|Regenbogenparade\\...|\n",
      "|           [D]|[Burgring, Börse,...|11.06.2022 08:32|11.06.2022 23:30|               NaN|Regenbogenparade\\...|\n",
      "|           [1]|[Hintere Zollamts...|11.06.2022 08:32|11.06.2022 23:30|               NaN|Regenbogenparade\\...|\n",
      "|           [1]|[Johann-Strauß-Ga...|11.06.2022 08:32|11.06.2022 23:30|               NaN|Regenbogenparade\\...|\n",
      "|           [1]|      [Kliebergasse]|11.06.2022 08:32|11.06.2022 23:30|               NaN|Regenbogenparade\\...|\n",
      "|           [1]|      [Kliebergasse]|11.06.2022 08:32|11.06.2022 23:30|               NaN|Regenbogenparade\\...|\n",
      "|          [71]|[Schwarzenbergplatz]|11.06.2022 09:19|11.06.2022 23:30|               NaN|Regenbogenparade\\...|\n",
      "|          [U1]|  [Kaisermühlen-VIC]|28.06.2022 20:45|29.06.2022 00:45|               NaN|        Kaisermühlen|\n",
      "|          [U6]|          [Alterlaa]|19.06.2022 20:45|20.06.2022 00:45|               NaN|            Alterlaa|\n",
      "|          [U3]|       [Herrengasse]|20.06.2022 20:45|21.06.2022 00:45|               NaN|         Herrengasse|\n",
      "+--------------+--------------------+----------------+----------------+------------------+--------------------+\n",
      "only showing top 20 rows\n",
      "\n"
     ]
    }
   ],
   "source": [
    "dfStoerung = pd.DataFrame(list(db['stoerungen'].find()), columns = ['Affected Lines','Affected Stations','Start Time','End Time','Time Problem Fixed','Title'])\n",
    "sparkDf = spark.createDataFrame(dfStoerung) \n",
    "sparkDf.printSchema()\n",
    "sparkDf.show()"
   ]
  },
  {
   "cell_type": "markdown",
   "id": "e871b5ed",
   "metadata": {},
   "source": [
    "For all the further steps of analysis, we will need to define a temporary view which represents our MongoDB table:"
   ]
  },
  {
   "cell_type": "code",
   "execution_count": null,
   "id": "f077c1cc",
   "metadata": {},
   "outputs": [],
   "source": [
    "sparkDf.createTempView('stoerungen')"
   ]
  },
  {
   "cell_type": "markdown",
   "id": "df776d8d",
   "metadata": {},
   "source": [
    "Next, we will analyze our data based on the Affected Lines:"
   ]
  },
  {
   "cell_type": "code",
   "execution_count": 86,
   "id": "70d8a2c9",
   "metadata": {
    "collapsed": true
   },
   "outputs": [
    {
     "name": "stdout",
     "output_type": "stream",
     "text": [
      "+--------------+\n",
      "|Affected Lines|\n",
      "+--------------+\n",
      "|          [42]|\n",
      "|          [7A]|\n",
      "|         [66A]|\n",
      "|          [U3]|\n",
      "|         [40A]|\n",
      "|           [6]|\n",
      "|           [1]|\n",
      "|           [1]|\n",
      "|           [1]|\n",
      "|           [1]|\n",
      "|           [D]|\n",
      "|           [D]|\n",
      "|           [1]|\n",
      "|           [1]|\n",
      "|           [1]|\n",
      "|           [1]|\n",
      "|          [71]|\n",
      "|          [U1]|\n",
      "|          [U6]|\n",
      "|          [U3]|\n",
      "+--------------+\n",
      "only showing top 20 rows\n",
      "\n"
     ]
    }
   ],
   "source": [
    "affectedDf = spark.sql(\"select `Affected Lines` from stoerungen\")\n",
    "affectedDf.show()"
   ]
  },
  {
   "cell_type": "markdown",
   "id": "2c01d17e",
   "metadata": {},
   "source": [
    "Now we will use the power of Spark to count all occurences of outages for all lines:"
   ]
  },
  {
   "cell_type": "code",
   "execution_count": 87,
   "id": "df2acefb",
   "metadata": {
    "collapsed": true
   },
   "outputs": [
    {
     "data": {
      "text/plain": [
       "[('48A', 212),\n",
       " ('11A', 136),\n",
       " ('44', 392),\n",
       " ('49A', 10),\n",
       " ('10', 456),\n",
       " ('O', 609),\n",
       " ('29A', 60),\n",
       " ('14A', 236),\n",
       " ('69A', 81),\n",
       " ('26A', 111),\n",
       " ('64A', 38),\n",
       " ('50A', 15),\n",
       " ('94A', 8),\n",
       " ('N29', 32),\n",
       " ('62A', 53),\n",
       " ('54A', 8),\n",
       " ('92B', 5),\n",
       " ('51A', 8),\n",
       " ('58A', 3),\n",
       " ('88B', 5),\n",
       " ('19A', 3),\n",
       " ('56B', 3),\n",
       " ('18', 734),\n",
       " ('43', 552),\n",
       " ('31', 567),\n",
       " ('10A', 250),\n",
       " ('25', 410),\n",
       " ('62', 914),\n",
       " ('34A', 6),\n",
       " ('24A', 47),\n",
       " ('22A', 22),\n",
       " ('N71', 84),\n",
       " ('37A', 24),\n",
       " ('97A', 6),\n",
       " ('N23', 4),\n",
       " ('36A', 22),\n",
       " ('72A', 2),\n",
       " ('N60', 68),\n",
       " ('88A', 3),\n",
       " ('N38', 10),\n",
       " ('99A', 1),\n",
       " ('U3', 1986),\n",
       " ('1', 1204),\n",
       " ('U2Z', 131),\n",
       " ('9', 717),\n",
       " ('60A', 37),\n",
       " ('U2', 1257),\n",
       " ('5B', 78),\n",
       " ('79A', 4),\n",
       " ('1A', 101),\n",
       " ('32A', 47),\n",
       " ('13A', 476),\n",
       " ('16A', 56),\n",
       " ('N20', 7),\n",
       " ('67A', 16),\n",
       " ('15A', 103),\n",
       " ('84A', 16),\n",
       " ('N62', 9),\n",
       " ('61A', 28),\n",
       " ('N26', 8),\n",
       " ('7B', 2),\n",
       " ('N65', 5),\n",
       " ('49B', 1),\n",
       " ('47B', 5),\n",
       " ('N31', 12),\n",
       " ('N24', 3),\n",
       " ('38', 297),\n",
       " ('11', 577),\n",
       " ('37', 296),\n",
       " ('46', 486),\n",
       " ('5', 710),\n",
       " ('36B', 37),\n",
       " ('11B', 23),\n",
       " ('27A', 53),\n",
       " ('N66', 20),\n",
       " ('86A', 24),\n",
       " ('43A', 6),\n",
       " ('87A', 29),\n",
       " ('74A', 114),\n",
       " ('76A', 6),\n",
       " ('68A', 28),\n",
       " ('N25', 26),\n",
       " ('52A', 5),\n",
       " ('N17', 1),\n",
       " ('VRT', 13),\n",
       " ('U1', 1717),\n",
       " ('U4', 1645),\n",
       " ('40', 281),\n",
       " ('60', 657),\n",
       " ('4A', 104),\n",
       " ('26', 506),\n",
       " ('63A', 224),\n",
       " ('79B', 2),\n",
       " ('38A', 82),\n",
       " ('N43', 185),\n",
       " ('N41', 10),\n",
       " ('WLB', 97),\n",
       " ('73A', 6),\n",
       " ('93A', 12),\n",
       " ('N46', 83),\n",
       " ('71A', 9),\n",
       " ('N75', 4),\n",
       " ('92A', 17),\n",
       " ('99B', 2),\n",
       " ('46B', 2),\n",
       " ('42', 424),\n",
       " ('66A', 148),\n",
       " ('6', 662),\n",
       " ('71', 741),\n",
       " ('12A', 238),\n",
       " ('49', 656),\n",
       " ('30', 172),\n",
       " ('2A', 121),\n",
       " ('59A', 150),\n",
       " ('67B', 16),\n",
       " ('30A', 33),\n",
       " ('68B', 28),\n",
       " ('82A', 14),\n",
       " ('76B', 6),\n",
       " ('44A', 16),\n",
       " ('28A', 29),\n",
       " ('96A', 1),\n",
       " ('58B', 7),\n",
       " ('N8', 26),\n",
       " ('50B', 6),\n",
       " ('98A', 6),\n",
       " ('N67', 5),\n",
       " ('42A', 4),\n",
       " ('U6', 1645),\n",
       " ('33', 288),\n",
       " ('5A', 108),\n",
       " ('95A', 20),\n",
       " ('80A', 47),\n",
       " ('71B', 4),\n",
       " ('57A', 184),\n",
       " ('25A', 11),\n",
       " ('17A', 8),\n",
       " ('65A', 52),\n",
       " ('N49', 131),\n",
       " ('56A', 9),\n",
       " ('54B', 5),\n",
       " ('N68', 1),\n",
       " ('8A', 4),\n",
       " ('52E', 1),\n",
       " ('89A', 1),\n",
       " ('7A', 240),\n",
       " ('40A', 124),\n",
       " ('D', 812),\n",
       " ('3A', 130),\n",
       " ('2', 1194),\n",
       " ('9A', 91),\n",
       " ('39A', 81),\n",
       " ('52', 404),\n",
       " ('35A', 87),\n",
       " ('77A', 40),\n",
       " ('N6', 392),\n",
       " ('41', 329),\n",
       " ('31A', 48),\n",
       " ('47A', 11),\n",
       " ('85A', 5),\n",
       " ('53A', 1),\n",
       " ('20A', 4),\n",
       " ('33A', 6),\n",
       " ('43B', 4),\n",
       " ('52B', 4),\n",
       " ('95B', 3),\n",
       " ('N35', 6),\n",
       " ('46A', 3)]"
      ]
     },
     "execution_count": 87,
     "metadata": {},
     "output_type": "execute_result"
    }
   ],
   "source": [
    "# Convert to List and flatMap, for count\n",
    "affected = affectedDf.rdd \\\n",
    "                     .flatMap(lambda x: x) \\\n",
    "                     .flatMap(lambda x: x) \\\n",
    "                     .map(lambda w: (w,1)) \\\n",
    "                     .reduceByKey(lambda a, b: a+b) \n",
    "\n",
    "affected.collect() # Output"
   ]
  },
  {
   "cell_type": "markdown",
   "id": "0b0b9c37",
   "metadata": {},
   "source": [
    "And now we would like to query this information for the top 20 least and top 20 most affected lines:"
   ]
  },
  {
   "cell_type": "code",
   "execution_count": 88,
   "id": "e56c088b",
   "metadata": {
    "collapsed": true
   },
   "outputs": [
    {
     "data": {
      "text/plain": [
       "[('U3', 1986),\n",
       " ('U1', 1717),\n",
       " ('U4', 1645),\n",
       " ('U6', 1645),\n",
       " ('U2', 1257),\n",
       " ('1', 1204),\n",
       " ('2', 1194),\n",
       " ('62', 914),\n",
       " ('D', 812),\n",
       " ('71', 741),\n",
       " ('18', 734),\n",
       " ('9', 717),\n",
       " ('5', 710),\n",
       " ('6', 662),\n",
       " ('60', 657),\n",
       " ('49', 656),\n",
       " ('O', 609),\n",
       " ('11', 577),\n",
       " ('31', 567),\n",
       " ('43', 552)]"
      ]
     },
     "execution_count": 88,
     "metadata": {},
     "output_type": "execute_result"
    }
   ],
   "source": [
    "# Get top 20 most affected lines\n",
    "top20 = affected.sortBy(lambda x: x[1], False) \\\n",
    "                .take(20)\n",
    "top20"
   ]
  },
  {
   "cell_type": "code",
   "execution_count": 89,
   "id": "b22c06bd",
   "metadata": {
    "collapsed": true
   },
   "outputs": [
    {
     "data": {
      "text/plain": [
       "[('99A', 1),\n",
       " ('49B', 1),\n",
       " ('N17', 1),\n",
       " ('96A', 1),\n",
       " ('N68', 1),\n",
       " ('52E', 1),\n",
       " ('89A', 1),\n",
       " ('53A', 1),\n",
       " ('72A', 2),\n",
       " ('7B', 2),\n",
       " ('79B', 2),\n",
       " ('99B', 2),\n",
       " ('46B', 2),\n",
       " ('58A', 3),\n",
       " ('19A', 3),\n",
       " ('56B', 3),\n",
       " ('88A', 3),\n",
       " ('N24', 3),\n",
       " ('95B', 3),\n",
       " ('46A', 3)]"
      ]
     },
     "execution_count": 89,
     "metadata": {},
     "output_type": "execute_result"
    }
   ],
   "source": [
    "# Get top 20 least affected lines\n",
    "low20 = affected.sortBy(lambda x: x[1]) \\\n",
    "                .take(20)\n",
    "low20"
   ]
  },
  {
   "cell_type": "code",
   "execution_count": 137,
   "id": "299c51fe",
   "metadata": {},
   "outputs": [
    {
     "data": {
      "image/png": "[encoded data removed]",
      "text/plain": [
       "<Figure size 432x288 with 1 Axes>"
      ]
     },
     "metadata": {
      "needs_background": "light"
     },
     "output_type": "display_data"
    }
   ],
   "source": [
    "# Top 20r\n",
    "plt.bar(range(len(top20)), [val[1] for val in top20], align='center', color=['red'])\n",
    "plt.xticks(range(len(top20)), [val[0] for val in top20])\n",
    "plt.xticks(rotation=70)\n",
    "plt.show()"
   ]
  },
  {
   "cell_type": "code",
   "execution_count": 141,
   "id": "550462a9",
   "metadata": {},
   "outputs": [
    {
     "data": {
      "image/png": "[encoded data removed]",
      "text/plain": [
       "<Figure size 432x288 with 1 Axes>"
      ]
     },
     "metadata": {
      "needs_background": "light"
     },
     "output_type": "display_data"
    }
   ],
   "source": [
    "# Lowest 20 \n",
    "plt.bar(range(len(low20)), [val[1] for val in low20], align='center', color=['green'])\n",
    "plt.yticks([0,1,2,3])\n",
    "plt.xticks(range(len(low20)), [val[0] for val in low20])\n",
    "plt.xticks(rotation=70)\n",
    "plt.show()"
   ]
  },
  {
   "cell_type": "markdown",
   "id": "3cb08590",
   "metadata": {},
   "source": [
    "From this we can immediately see that lines which are heavily utilized such as the U3 and U1 which service the city center tend to have much more outages reported! \n",
    "\n",
    "From the lowest 10, a few are Nightlines which don't need to deal with a lot of traffic anyways and in general just lesser known lines, mostly servicing the car friendly areas such as the 22nd district (99A, 96A, 89A, 99B, etc.)"
   ]
  },
  {
   "cell_type": "markdown",
   "id": "7d2805ab",
   "metadata": {},
   "source": [
    "##### Common Outage Causes\n",
    "\n",
    "For this we will attempt to analyze more common causes for outages, such as false parking, damaged rails or the recent pride parade. 🏳️‍🌈"
   ]
  },
  {
   "cell_type": "code",
   "execution_count": 143,
   "id": "f6a00cb4",
   "metadata": {},
   "outputs": [
    {
     "name": "stdout",
     "output_type": "stream",
     "text": [
      "+---------------+------------+---------+--------------+----+----+--------------+---------------+------------+----------+\n",
      "|Rettungseinsatz|Falschparker|Feuerwehr|Polizeieinsatz|Demo|Stau|Verkehrsunfall|FahrzeugSchaden|Gleisschaden|Regenbogen|\n",
      "+---------------+------------+---------+--------------+----+----+--------------+---------------+------------+----------+\n",
      "|           2512|        2021|      685|          1547|1401| 929|          3029|           1909|         163|        14|\n",
      "+---------------+------------+---------+--------------+----+----+--------------+---------------+------------+----------+\n",
      "\n"
     ]
    }
   ],
   "source": [
    "demonstrationCount = spark.sql(\"\"\"select (select count(title) from stoerungen where title like '%Rettungseinsatz%') as Rettungseinsatz,\n",
    "                                         (select count(title) from stoerungen where title like '%Falschparker%') as Falschparker,\n",
    "                                         (select count(title) from stoerungen where title like '%Feuerwehr%') as Feuerwehr,\n",
    "                                         (select count(title) from stoerungen where title like '%Polizei%') as Polizeieinsatz,\n",
    "                                         (select count(title) from stoerungen where title like '%Demonstration%') as Demo,\n",
    "                                         (select count(title) from stoerungen where title like '%Verkehrsbedingt%') as Stau,\n",
    "                                         (select count(title) from stoerungen where title like '%Verkehrsunfall%') as Verkehrsunfall,\n",
    "                                         (select count(title) from stoerungen where title like '%Schadhaft%') as FahrzeugSchaden,\n",
    "                                         (select count(title) from stoerungen where title like '%Gleisschaden%') as Gleisschaden,\n",
    "                                         (select count(title) from stoerungen where title like '%Regenbogenparade%') as Regenbogen\"\"\")\n",
    "demonstrationCount.show()"
   ]
  },
  {
   "cell_type": "code",
   "execution_count": 185,
   "id": "5604fedd",
   "metadata": {
    "collapsed": true
   },
   "outputs": [
    {
     "data": {
      "text/plain": [
       "[('Verkehrsunfall', 3029),\n",
       " ('Rettungseinsatz', 2512),\n",
       " ('Falschparker', 2021),\n",
       " ('FahrzeugSchaden', 1909),\n",
       " ('Polizeieinsatz', 1547),\n",
       " ('Demo', 1401),\n",
       " ('Stau', 929),\n",
       " ('Feuerwehr', 685),\n",
       " ('Gleisschaden', 163),\n",
       " ('Regenbogen', 14)]"
      ]
     },
     "execution_count": 185,
     "metadata": {},
     "output_type": "execute_result"
    }
   ],
   "source": [
    "demonstrationCountPandas = demonstrationCount.toPandas() \n",
    "colnames = list(demonstrationCountPandas)\n",
    "values = demonstrationCountPandas.to_numpy().tolist()[0]\n",
    "\n",
    "data = list(zip(colnames, values))\n",
    "data.sort(key=lambda x: x[1], reverse=True)\n",
    "data"
   ]
  },
  {
   "cell_type": "code",
   "execution_count": 186,
   "id": "8c431973",
   "metadata": {},
   "outputs": [
    {
     "data": {
      "image/png": "[encoded data removed]",
      "text/plain": [
       "<Figure size 432x288 with 1 Axes>"
      ]
     },
     "metadata": {
      "needs_background": "light"
     },
     "output_type": "display_data"
    }
   ],
   "source": [
    "plt.bar(range(len(data)), [val[1] for val in data], align='center')\n",
    "plt.xticks(range(len(data)), [val[0] for val in data])\n",
    "plt.xticks(rotation=70)\n",
    "plt.show()"
   ]
  },
  {
   "cell_type": "markdown",
   "id": "ebe8c107",
   "metadata": {},
   "source": [
    "Here we can obviously see that there have been some common issues in the last few years.\n",
    "For example, road accidents is the most cited reason for outages we've inspected, followed by ambulance services and wrong parkers! \n",
    "\n",
    "Demonstrations, police activity and damaged wagons also account for many reported reasons while we can also observe a small number attributed to railway issues and even 14 outages directly related to the Rainbow Parade. :-)  "
   ]
  },
  {
   "cell_type": "markdown",
   "id": "cd68a2de",
   "metadata": {},
   "source": [
    "\n",
    "#### Generating a Heat Map of most affected stations\n",
    "// TODO: Use the geolocation data and outage data in our DB to calculate the total amount of time a station was closed"
   ]
  }
 ],
 "metadata": {
  "kernelspec": {
   "display_name": "Python 3 (ipykernel)",
   "language": "python",
   "name": "python3"
  },
  "language_info": {
   "codemirror_mode": {
    "name": "ipython",
    "version": 3
   },
   "file_extension": ".py",
   "mimetype": "text/x-python",
   "name": "python",
   "nbconvert_exporter": "python",
   "pygments_lexer": "ipython3",
   "version": "3.9.7"
  }
 },
 "nbformat": 4,
 "nbformat_minor": 5
}
